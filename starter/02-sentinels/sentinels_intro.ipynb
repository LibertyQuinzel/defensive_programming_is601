{
 "cells": [
  {
   "cell_type": "markdown",
   "id": "29491f54",
   "metadata": {},
   "source": [
    "# Sentinels — Beginner Notebook\n",
    "\n",
    "This notebook demonstrates sentinel values and how to detect omitted parameters vs explicit None."
   ]
  },
  {
   "cell_type": "markdown",
   "id": "712ce4b5",
   "metadata": {},
   "source": [
    "## 1) Run the starter script\n",
    "The starter script is `defensive_programming/starter/02-sentinels/starter.py`. The next cell runs it."
   ]
  },
  {
   "cell_type": "code",
   "execution_count": null,
   "id": "332a873e",
   "metadata": {},
   "outputs": [],
   "source": [
    "import runpy\n",
    "module = runpy.run_path('defensive_programming/starter/02-sentinels/starter.py')\n",
    "print('choose_value() ->', module['choose_value']())\n",
    "print(\n",
    ", module['choose_value'](None, fallback=123))"
   ]
  },
  {
   "cell_type": "markdown",
   "id": "af361bb5",
   "metadata": {},
   "source": [
    "## 2) Exercise\n",
    "Implement a function that accepts an optional parameter where None is a valid explicit value. Use a sentinel to detect omission.\n",
    "\n",
    "Edit `defensive_programming/skeletons/02-sentinels/skeleton.py` and re-run the first cell to test."
   ]
  }
 ],
 "metadata": {
  "language_info": {
   "name": "python"
  }
 },
 "nbformat": 4,
 "nbformat_minor": 5
}
