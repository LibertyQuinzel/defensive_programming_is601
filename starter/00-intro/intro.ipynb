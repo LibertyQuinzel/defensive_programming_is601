{
 "cells": [
  {
   "cell_type": "markdown",
   "id": "cccbd3cc",
   "metadata": {},
   "source": [
    "# Intro — Beginner Notebook\n",
    "\n",
    "This notebook runs the intro starter and lets you experiment with small changes."
   ]
  },
  {
   "cell_type": "markdown",
   "id": "2a96fad0",
   "metadata": {},
   "source": [
    "## 1) Run the starter script\n",
    "The starter is `defensive_programming/starter/00-intro/starter.py`. The next cell executes it and calls `greet`."
   ]
  },
  {
   "cell_type": "code",
   "execution_count": null,
   "id": "3264dab5",
   "metadata": {},
   "outputs": [],
   "source": [
    "import runpy\n",
    "module = runpy.run_path('defensive_programming/starter/00-intro/starter.py')\n",
    "print('greet(Student) ->', module['greet']('Student'))"
   ]
  },
  {
   "cell_type": "markdown",
   "id": "2acf63fc",
   "metadata": {},
   "source": [
    "## 2) Try bad inputs\n",
    "Call `greet(123)` or `greet('')` to see the guard clauses in action. The next cell demonstrates both."
   ]
  },
  {
   "cell_type": "code",
   "execution_count": null,
   "id": "ec6fc75f",
   "metadata": {},
   "outputs": [],
   "source": [
    "for attempt in [123, '']:\n",
    "    try:\n",
    "        print('greet(', attempt, ')->', module['greet'](attempt))\n",
    "    except Exception as exc:\n",
    "        print('greet(', attempt, ') raised', type(exc).__name__, str(exc))"
   ]
  },
  {
   "cell_type": "markdown",
   "id": "6a5f9e48",
   "metadata": {},
   "source": [
    "## 3) Exercise\n",
    "Edit `defensive_programming/skeletons/00-intro/skeleton.py` to change the greeting behavior (for example, make empty name return 'Hi there'). After editing, re-run the first cell to see the change."
   ]
  }
 ],
 "metadata": {
  "language_info": {
   "name": "python"
  }
 },
 "nbformat": 4,
 "nbformat_minor": 5
}
