{
 "cells": [
  {
   "cell_type": "markdown",
   "id": "cd17f359",
   "metadata": {},
   "source": [
    "# Guard Clauses — Beginner Notebook\n",
    "\n",
    "This short notebook helps beginners explore guard clauses. It runs the tiny starter script, demonstrates common errors, and provides a small exercise you can edit and run."
   ]
  },
  {
   "cell_type": "markdown",
   "id": "bf6d0796",
   "metadata": {},
   "source": [
    "## 1) Run the starter script\n",
    "The starter script lives at `defensive_programming/starter/01-guard-clauses/starter.py`. The next cell executes it and prints an example result."
   ]
  },
  {
   "cell_type": "code",
   "execution_count": null,
   "id": "ed0b3bad",
   "metadata": {},
   "outputs": [],
   "source": [
    "import runpy\n",
    "module_globals = runpy.run_path('defensive_programming/starter/01-guard-clauses/starter.py')\n",
    "print('divide(10,2) ->', module_globals['divide'](10,2))"
   ]
  },
  {
   "cell_type": "markdown",
   "id": "01cfb1c2",
   "metadata": {},
   "source": [
    "## 2) See what happens with bad inputs\n",
    "Try calling `divide('a', 2)` or `divide(1, 0)`. The notebook shows the exception and message so you can learn what the defensive checks should catch."
   ]
  },
  {
   "cell_type": "code",
   "execution_count": null,
   "id": "59c44099",
   "metadata": {},
   "outputs": [],
   "source": [
    "for attempt in [(\n",
    "\n",
    "\n",
    ", 2), (1, 0)]:\n",
    "    try:\n",
    "        result = module_globals['divide'](*attempt)\n",
    "        print(f\n",
    ", result)\n",
    "    except Exception as exc:\n",
    "        print(f"
   ]
  },
  {
   "cell_type": "markdown",
   "id": "12d218f5",
   "metadata": {},
   "source": [
    "## 3) Exercise (edit and re-run)\n",
    "Open `defensive_programming/starter/01-guard-clauses/starter.py` in a text editor. Add defensive checks to `divide(a, b)` so it: \n",
    "- raises `TypeError` if `a` or `b` is not a number (int/float)\n",
    "- raises `ValueError` if `b` is zero\n",
    "\n",
    "After editing, re-run the next cell to test your changes."
   ]
  },
  {
   "cell_type": "code",
   "execution_count": null,
   "id": "a4ecc3f1",
   "metadata": {},
   "outputs": [],
   "source": [
    "# Re-run the starter to pick up edits and run a quick check\n",
    "module_globals = runpy.run_path('defensive_programming/starter/01-guard-clauses/starter.py')\n",
    "print('Ran starter. divide(10,2)=', module_globals['divide'](10,2))"
   ]
  },
  {
   "cell_type": "markdown",
   "id": "752952b8",
   "metadata": {},
   "source": [
    "## Tips\n",
    "- Make one small change at a time and re-run the exercise cell.\n",
    "- Use the tests in `defensive_programming/tests/` for canonical behavior.\n",
    "- If you see `ImportError` when running tests from outside the repo root, run tests from the repository root and set `PYTHONPATH=.`."
   ]
  }
 ],
 "metadata": {
  "language_info": {
   "name": "python"
  }
 },
 "nbformat": 4,
 "nbformat_minor": 5
}
