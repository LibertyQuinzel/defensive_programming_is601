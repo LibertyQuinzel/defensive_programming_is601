{
 "cells": [
  {
   "cell_type": "markdown",
   "id": "ff0bfb12",
   "metadata": {},
   "source": [
    "# Decorators — Beginner Notebook\n",
    "\n",
    "A short notebook showing how a decorator wraps a function and how to preserve metadata."
   ]
  },
  {
   "cell_type": "markdown",
   "id": "53ef54d2",
   "metadata": {},
   "source": [
    "## 1) Run the starter\n",
    "Run the starter script to see the decorator behavior."
   ]
  },
  {
   "cell_type": "code",
   "execution_count": null,
   "id": "03a030de",
   "metadata": {},
   "outputs": [],
   "source": [
    "import runpy\n",
    "module = runpy.run_path('defensive_programming/starter/04-decorators/starter.py')\n",
    "print('add(2,3) ->', module['add'](2,3))"
   ]
  },
  {
   "cell_type": "markdown",
   "id": "4789ce55",
   "metadata": {},
   "source": [
    "## 2) Exercise\n",
    "Modify the `announce` decorator to optionally suppress printing when an environment variable `QUIET` is set. Edit `defensive_programming/skeletons/04-decorators/skeleton.py` and re-run the cell above."
   ]
  }
 ],
 "metadata": {
  "language_info": {
   "name": "python"
  }
 },
 "nbformat": 4,
 "nbformat_minor": 5
}
