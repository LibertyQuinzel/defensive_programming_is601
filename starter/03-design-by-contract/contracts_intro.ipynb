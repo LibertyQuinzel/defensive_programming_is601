{
 "cells": [
  {
   "cell_type": "markdown",
   "id": "2af51784",
   "metadata": {},
   "source": [
    "# Design by Contract — Beginner Notebook\n",
    "\n",
    "This notebook walks through pre- and post-conditions using the starter code."
   ]
  },
  {
   "cell_type": "markdown",
   "id": "ee14afeb",
   "metadata": {},
   "source": [
    "## 1) Run the starter\n",
    "Run the starter script to see pre/post conditions in action."
   ]
  },
  {
   "cell_type": "code",
   "execution_count": null,
   "id": "67211905",
   "metadata": {},
   "outputs": [],
   "source": [
    "import runpy\n",
    "module = runpy.run_path('defensive_programming/starter/03-design-by-contract/starter.py')\n",
    "print('reciprocal(2) ->', module['reciprocal'](2))"
   ]
  },
  {
   "cell_type": "markdown",
   "id": "db4fc9c9",
   "metadata": {},
   "source": [
    "## 2) See precondition failures\n",
    "Try calling the function with `0` or a non-number to observe `ValueError` or `TypeError`."
   ]
  },
  {
   "cell_type": "code",
   "execution_count": null,
   "id": "7a646663",
   "metadata": {},
   "outputs": [],
   "source": [
    "for attempt in [0, 'a']:\n",
    "    try:\n",
    "        print('reciprocal(', attempt, ') ->', module['reciprocal'](attempt))\n",
    "    except Exception as exc:\n",
    "        print('reciprocal', attempt, 'raised', type(exc).__name__, str(exc))"
   ]
  },
  {
   "cell_type": "markdown",
   "id": "e757ec7a",
   "metadata": {},
   "source": [
    "## 3) Exercise\n",
    "Edit `defensive_programming/skeletons/03-design-by-contract/skeleton.py` to add explicit type checks and a stronger postcondition. Re-run the first cell to verify."
   ]
  }
 ],
 "metadata": {
  "language_info": {
   "name": "python"
  }
 },
 "nbformat": 4,
 "nbformat_minor": 5
}
